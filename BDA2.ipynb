{
  "nbformat": 4,
  "nbformat_minor": 0,
  "metadata": {
    "colab": {
      "provenance": []
    },
    "kernelspec": {
      "name": "python3",
      "display_name": "Python 3"
    },
    "language_info": {
      "name": "python"
    }
  },
  "cells": [
    {
      "cell_type": "code",
      "source": [
        "#Name :- Devashish Mayur Potnis\n",
        "#Roll No :- 43557\n",
        "#Practical No :- 2"
      ],
      "metadata": {
        "id": "Bmec8kA-cYI4"
      },
      "execution_count": null,
      "outputs": []
    },
    {
      "cell_type": "code",
      "source": [
        "import pandas as pd\n",
        "from sklearn.model_selection import train_test_split\n",
        "from sklearn.naive_bayes import GaussianNB\n",
        "from sklearn.metrics import accuracy_score, precision_score, recall_score, f1_score, confusion_matrix\n",
        "\n",
        "\n"
      ],
      "metadata": {
        "id": "RGYM9Gk54bfJ"
      },
      "execution_count": null,
      "outputs": []
    },
    {
      "cell_type": "code",
      "source": [
        "# 1. Download the Dataset\n",
        "url = \"https://raw.githubusercontent.com/jbrownlee/Datasets/master/pima-indians-diabetes.data.csv\"\n",
        "columns = ['Pregnancies', 'Glucose', 'BloodPressure', 'SkinThickness', 'Insulin', 'BMI', 'DiabetesPedigreeFunction', 'Age', 'Outcome']\n",
        "df = pd.read_csv(url, names=columns)"
      ],
      "metadata": {
        "id": "elMHcGHR4bh2"
      },
      "execution_count": 2,
      "outputs": []
    },
    {
      "cell_type": "code",
      "source": [
        "# Inspect the DataFrame structure\n",
        "print(\"Dataset Preview:\")\n",
        "print(df.head())"
      ],
      "metadata": {
        "colab": {
          "base_uri": "https://localhost:8080/"
        },
        "id": "SmPqrjl14bka",
        "outputId": "9e101a6e-fb38-476a-91a3-7d505b60ba96"
      },
      "execution_count": 4,
      "outputs": [
        {
          "output_type": "stream",
          "name": "stdout",
          "text": [
            "Dataset Preview:\n",
            "   Pregnancies  Glucose  BloodPressure  SkinThickness  Insulin   BMI  \\\n",
            "0            6      148             72             35        0  33.6   \n",
            "1            1       85             66             29        0  26.6   \n",
            "2            8      183             64              0        0  23.3   \n",
            "3            1       89             66             23       94  28.1   \n",
            "4            0      137             40             35      168  43.1   \n",
            "\n",
            "   DiabetesPedigreeFunction  Age  Outcome  \n",
            "0                     0.627   50        1  \n",
            "1                     0.351   31        0  \n",
            "2                     0.672   32        1  \n",
            "3                     0.167   21        0  \n",
            "4                     2.288   33        1  \n"
          ]
        }
      ]
    },
    {
      "cell_type": "code",
      "source": [
        "# 2. Split Dataset\n",
        "X = df.drop('Outcome', axis=1)  # Features\n",
        "y = df['Outcome']  # Target variable\n",
        "X_train, X_test, y_train, y_test = train_test_split(X, y, test_size=0.3, random_state=42)"
      ],
      "metadata": {
        "id": "XkM7pyYZ4bmz"
      },
      "execution_count": 5,
      "outputs": []
    },
    {
      "cell_type": "code",
      "source": [
        "# 3. Summarize Training Data\n",
        "# Separate the training dataset into classes (diabetes positive and negative)\n",
        "train_positive = X_train[y_train == 1]\n",
        "train_negative = X_train[y_train == 0]"
      ],
      "metadata": {
        "id": "q180J_ju4bpM"
      },
      "execution_count": 6,
      "outputs": []
    },
    {
      "cell_type": "code",
      "source": [
        "# Calculate mean and standard deviation for each feature by class\n",
        "mean_positive = train_positive.mean()\n",
        "std_positive = train_positive.std()\n",
        "mean_negative = train_negative.mean()\n",
        "std_negative = train_negative.std()"
      ],
      "metadata": {
        "id": "w6us2SfF4brs"
      },
      "execution_count": 7,
      "outputs": []
    },
    {
      "cell_type": "code",
      "source": [
        "# Calculate prior probabilities of each class\n",
        "prob_positive = len(train_positive) / len(X_train)\n",
        "prob_negative = len(train_negative) / len(X_train)\n",
        "\n",
        "print(\"\\nClass Mean and Std for Positive Class:\")\n",
        "print(mean_positive, std_positive)\n",
        "print(\"\\nClass Mean and Std for Negative Class:\")\n",
        "print(mean_negative, std_negative)\n",
        "print(\"\\nPrior Probabilities (Positive, Negative):\", prob_positive, prob_negative)\n",
        "\n"
      ],
      "metadata": {
        "colab": {
          "base_uri": "https://localhost:8080/"
        },
        "id": "oYUlaFhw4bua",
        "outputId": "4edb615f-9a33-4f77-800e-39c53bc58772"
      },
      "execution_count": 8,
      "outputs": [
        {
          "output_type": "stream",
          "name": "stdout",
          "text": [
            "\n",
            "Class Mean and Std for Positive Class:\n",
            "Pregnancies                   4.601064\n",
            "Glucose                     141.914894\n",
            "BloodPressure                72.452128\n",
            "SkinThickness                21.638298\n",
            "Insulin                     101.058511\n",
            "BMI                          35.335106\n",
            "DiabetesPedigreeFunction      0.539250\n",
            "Age                          37.526596\n",
            "dtype: float64 Pregnancies                   3.586278\n",
            "Glucose                      33.014390\n",
            "BloodPressure                18.697217\n",
            "SkinThickness                17.019555\n",
            "Insulin                     142.944295\n",
            "BMI                           7.161016\n",
            "DiabetesPedigreeFunction      0.381157\n",
            "Age                          11.047991\n",
            "dtype: float64\n",
            "\n",
            "Class Mean and Std for Negative Class:\n",
            "Pregnancies                   3.255014\n",
            "Glucose                     109.501433\n",
            "BloodPressure                68.194842\n",
            "SkinThickness                19.782235\n",
            "Insulin                      68.404011\n",
            "BMI                          30.165903\n",
            "DiabetesPedigreeFunction      0.432573\n",
            "Age                          30.676218\n",
            "dtype: float64 Pregnancies                  2.975138\n",
            "Glucose                     25.617840\n",
            "BloodPressure               17.608673\n",
            "SkinThickness               14.585405\n",
            "Insulin                     95.315629\n",
            "BMI                          7.252638\n",
            "DiabetesPedigreeFunction     0.313337\n",
            "Age                         11.324677\n",
            "dtype: float64\n",
            "\n",
            "Prior Probabilities (Positive, Negative): 0.3500931098696462 0.6499068901303539\n"
          ]
        }
      ]
    },
    {
      "cell_type": "code",
      "source": [
        "# 4. Naive Bayes Classification\n",
        "# Implement Naive Bayes using GaussianNB\n",
        "nb = GaussianNB()\n",
        "\n",
        "# Fit the model to the training data\n",
        "nb.fit(X_train, y_train)\n",
        "\n",
        "# Make predictions on the test dataset\n",
        "y_pred = nb.predict(X_test)"
      ],
      "metadata": {
        "id": "Xyj6gLvt4bxc"
      },
      "execution_count": 9,
      "outputs": []
    },
    {
      "cell_type": "code",
      "source": [
        "# 5. Evaluate Model Performance\n",
        "# Calculate accuracy, precision, recall, F1-score, and confusion matrix\n",
        "accuracy = accuracy_score(y_test, y_pred)\n",
        "precision = precision_score(y_test, y_pred)\n",
        "recall = recall_score(y_test, y_pred)\n",
        "f1 = f1_score(y_test, y_pred)\n",
        "conf_matrix = confusion_matrix(y_test, y_pred)\n",
        "\n",
        "print(\"\\nModel Performance Evaluation:\")\n",
        "print(\"Accuracy:\", accuracy)\n",
        "print(\"Precision:\", precision)\n",
        "print(\"Recall:\", recall)\n",
        "print(\"F1-Score:\", f1)\n",
        "print(\"Confusion Matrix:\")\n",
        "print(conf_matrix)"
      ],
      "metadata": {
        "colab": {
          "base_uri": "https://localhost:8080/"
        },
        "id": "W3lQrm5W4ul-",
        "outputId": "0dede688-86f6-4d2b-a4a4-a8ab016d8ceb"
      },
      "execution_count": 11,
      "outputs": [
        {
          "output_type": "stream",
          "name": "stdout",
          "text": [
            "\n",
            "Model Performance Evaluation:\n",
            "Accuracy: 0.7445887445887446\n",
            "Precision: 0.6235294117647059\n",
            "Recall: 0.6625\n",
            "F1-Score: 0.6424242424242425\n",
            "Confusion Matrix:\n",
            "[[119  32]\n",
            " [ 27  53]]\n"
          ]
        }
      ]
    }
  ]
}