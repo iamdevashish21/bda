{
  "nbformat": 4,
  "nbformat_minor": 0,
  "metadata": {
    "colab": {
      "provenance": []
    },
    "kernelspec": {
      "name": "python3",
      "display_name": "Python 3"
    },
    "language_info": {
      "name": "python"
    }
  },
  "cells": [
    {
      "cell_type": "code",
      "execution_count": 5,
      "metadata": {
        "id": "Im3YXLXHAtP1"
      },
      "outputs": [],
      "source": [
        "#Name :- Devashish Mayur Potnis\n",
        "#Roll No :- 43557\n",
        "#Practical No :- 4"
      ]
    },
    {
      "cell_type": "code",
      "source": [
        "import sqlite3"
      ],
      "metadata": {
        "id": "fKpHbSN5CXjI"
      },
      "execution_count": 6,
      "outputs": []
    },
    {
      "cell_type": "code",
      "source": [
        "# Connect to the SQLite database (or create it if it doesn't exist)\n",
        "conn = sqlite3.connect('weather_data.db')\n",
        "cursor = conn.cursor()\n",
        "# Create the table\n",
        "cursor.execute(\"\"\"\n",
        "CREATE TABLE IF NOT EXISTS weather_data (\n",
        "id INTEGER PRIMARY KEY AUTOINCREMENT,\n",
        "station_id TEXT NOT NULL,\n",
        "date TEXT NOT NULL,\n",
        "snowfall REAL NOT NULL\n",
        ");\n",
        "\"\"\")\n",
        "# Insert sample data (50 records)\n",
        "cursor.executemany(\"\"\"\n",
        "INSERT INTO weather_data (station_id, date, snowfall) VALUES (?, ?, ?)\n",
        "\"\"\", [\n",
        "('ST01', '2013-01-01', 0.5),\n",
        "('ST02', '2013-01-01', 2.0),\n",
        "('ST03', '2013-01-01', 0.0),\n",
        "('ST01', '2013-01-02', 3.1),\n",
        "('ST02', '2013-01-02', 1.2),\n",
        "('ST03', '2013-01-02', 0.8),\n",
        "('ST01', '2013-01-03', 5.0),\n",
        "('ST02', '2013-01-03', 2.5),\n",
        "('ST03', '2013-01-03', 1.0),\n",
        "('ST01', '2013-01-04', 1.7),\n",
        "('ST02', '2013-01-04', 0.0),\n",
        "('ST03', '2013-01-04', 2.2),\n",
        "('ST01', '2013-01-05', 3.5),\n",
        "('ST02', '2013-01-05', 4.0),\n",
        "('ST03', '2013-01-05', 0.3),\n",
        "('ST01', '2013-01-06', 0.9),\n",
        "('ST02', '2013-01-06', 1.1),\n",
        "('ST03', '2013-01-06', 3.6),\n",
        "('ST01', '2013-01-07', 2.8),\n",
        "('ST02', '2013-01-07', 0.0),\n",
        "('ST03', '2013-01-07', 1.9),\n",
        "('ST01', '2013-02-01', 4.5),\n",
        "('ST02', '2013-02-01', 1.8),\n",
        "('ST03', '2013-02-01', 3.1),\n",
        "('ST01', '2013-02-02', 0.7),\n",
        "('ST02', '2013-02-02', 2.6),\n",
        "('ST03', '2013-02-02', 5.0),\n",
        "('ST01', '2013-02-03', 3.2),\n",
        "('ST02', '2013-02-03', 4.0),\n",
        "('ST03', '2013-02-03', 1.3),\n",
        "('ST01', '2013-02-04', 0.0),\n",
        "('ST02', '2013-02-04', 2.2),\n",
        "('ST03', '2013-02-04', 0.1),\n",
        "('ST01', '2013-02-05', 1.4),\n",
        "('ST02', '2013-02-05', 0.8),\n",
        "('ST03', '2013-02-05', 2.9),\n",
        "('ST01', '2013-02-06', 3.5),\n",
        "('ST02', '2013-02-06', 1.1),\n",
        "('ST03', '2013-02-06', 0.0),\n",
        "('ST01', '2013-03-01', 2.3),\n",
        "('ST02', '2013-03-01', 0.9),\n",
        "('ST03', '2013-03-01', 1.5),\n",
        "('ST01', '2013-03-02', 0.0),\n",
        "('ST02', '2013-03-02', 3.0),\n",
        "('ST03', '2013-03-02', 2.7),\n",
        "('ST01', '2013-03-03', 1.0),\n",
        "('ST02', '2013-03-03', 1.6),\n",
        "('ST03', '2013-03-03', 3.3)\n",
        "])\n",
        "# Commit the changes and close the connection\n",
        "conn.commit()\n",
        "conn.close()\n",
        "print(\"Data inserted successfully!\")"
      ],
      "metadata": {
        "colab": {
          "base_uri": "https://localhost:8080/"
        },
        "id": "WEQCG6M7A0q7",
        "outputId": "912cdce7-4fbe-4ae3-d621-a69ee732535b"
      },
      "execution_count": 7,
      "outputs": [
        {
          "output_type": "stream",
          "name": "stdout",
          "text": [
            "Data inserted successfully!\n"
          ]
        }
      ]
    },
    {
      "cell_type": "code",
      "source": [
        "import sqlite3  # Replace with your database module if needed (e.g., pymysql, psycopg2)"
      ],
      "metadata": {
        "id": "u9CrrHFJBAwI"
      },
      "execution_count": null,
      "outputs": []
    },
    {
      "cell_type": "code",
      "source": [
        "def get_max_snowfall_station_and_day():\n",
        "    # Connect to your weather database\n",
        "    conn = sqlite3.connect('weather_data.db')  # Adjust this to your actual database\n",
        "    cursor = conn.cursor()\n",
        "\n",
        "    # Corrected SQL query to find the max snowfall in 2013\n",
        "    query = \"\"\"\n",
        "    SELECT station_id, date, snowfall\n",
        "    FROM weather_data\n",
        "    WHERE strftime('%Y', date) = '2013'\n",
        "    ORDER BY snowfall DESC\n",
        "    LIMIT 1;\n",
        "    \"\"\"\n",
        "\n",
        "    # Execute the query\n",
        "    cursor.execute(query)\n",
        "    result = cursor.fetchone()\n",
        "\n",
        "    if result:\n",
        "        station_id, date, max_snowfall = result\n",
        "        print(f\"The station with the maximum snowfall in 2013 was {station_id}, on {date}.\")\n",
        "        print(f\"Maximum snowfall: {max_snowfall} inches.\")\n",
        "    else:\n",
        "        print(\"No data found for 2013.\")\n",
        "\n",
        "    # Close the connection\n",
        "    conn.close()\n",
        "\n",
        "# Run the function to get the result\n",
        "get_max_snowfall_station_and_day()\n"
      ],
      "metadata": {
        "colab": {
          "base_uri": "https://localhost:8080/"
        },
        "id": "rx5dz75dBHlH",
        "outputId": "e5704fec-0d7c-41f1-a876-ba755f2de31c"
      },
      "execution_count": null,
      "outputs": [
        {
          "output_type": "stream",
          "name": "stdout",
          "text": [
            "The station with the maximum snowfall in 2013 was ST01, on 2013-01-03.\n",
            "Maximum snowfall: 5.0 inches.\n"
          ]
        }
      ]
    }
  ]
}